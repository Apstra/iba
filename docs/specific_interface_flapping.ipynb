{
 "cells": [
  {
   "cell_type": "markdown",
   "metadata": {},
   "source": [
    "# IBA Probe for Specific Interface Flapping\n",
    "\n",
    "In this tutorial we will demonstrate the \"Specific Interface Flapping\" probe that is used to messure and alert on specific interfaces that are flapping up/down.\n",
    "\n",
    "The first thing we need to do to is setup our AOS server and identify the blueprint we want to use."
   ]
  },
  {
   "cell_type": "code",
   "execution_count": 1,
   "metadata": {},
   "outputs": [],
   "source": [
    "aos_server = '172.20.91.3'\n",
    "blueprint_name = \"rack-based-blueprint-f03bfadb\""
   ]
  },
  {
   "cell_type": "markdown",
   "metadata": {},
   "source": [
    "Next let's create a AOS python client that we will use to create our probe"
   ]
  },
  {
   "cell_type": "code",
   "execution_count": 2,
   "metadata": {},
   "outputs": [],
   "source": [
    "import json\n",
    "from aospy.swagger import Client\n",
    "\n",
    "aos = Client('https://' + aos_server)"
   ]
  },
  {
   "cell_type": "markdown",
   "metadata": {},
   "source": [
    "Now let's use that client to get the blueprint, so we can have the blueprint_id value we will need when we post the probe."
   ]
  },
  {
   "cell_type": "code",
   "execution_count": 3,
   "metadata": {},
   "outputs": [],
   "source": [
    "from aospy.swagger.groups.blueprints import Blueprints\n",
    "bp_index = Blueprints(aos)\n",
    "bp = bp_index[blueprint_name]"
   ]
  },
  {
   "cell_type": "code",
   "execution_count": 4,
   "metadata": {},
   "outputs": [
    {
     "name": "stdout",
     "output_type": "stream",
     "text": [
      "rack-based-blueprint-f03bfadb\n"
     ]
    }
   ],
   "source": [
    "print bp.id"
   ]
  },
  {
   "cell_type": "markdown",
   "metadata": {},
   "source": [
    "Now let's import the interface flapping probe from the library"
   ]
  },
  {
   "cell_type": "code",
   "execution_count": 5,
   "metadata": {},
   "outputs": [],
   "source": [
    "from aospy.ibaprobelib.specific_interface_flapping import specific_interface_flapping_probe"
   ]
  },
  {
   "cell_type": "markdown",
   "metadata": {},
   "source": [
    "Next let's create the interface flapping probe payload information that we will need.  The probe takes a few parmateres which we can see if we introspect the function:"
   ]
  },
  {
   "cell_type": "code",
   "execution_count": null,
   "metadata": {},
   "outputs": [],
   "source": [
    "?specific_interface_flapping_probe"
   ]
  },
  {
   "cell_type": "markdown",
   "metadata": {},
   "source": [
    "The following paramaters are required:\n",
    "\n",
    "`label` - Descriptive name for the probe  \n",
    "`interfaces` - list of interfaces   \n",
    "    - system_label - label of system node that hosts given interface  \n",
    "    - interface_name - if_name of interface node representing given interface  \n",
    "   \n",
    "`threshold` - sum total of number of flaps in recent-history for which an anomaly will be raised  \n",
    "`duration` - number of seconds of recent-history in which interface flapping will be considered  \n",
    "`anomaly_history_count` - number of anomaly flaps that will be recorded for inspection  \n",
    "`max_flapping_interfaces_percentage` - maximum percentage of flapping interfaces on a device  \n",
    "\n",
    "So for the case of reuse, we will define these variables here:"
   ]
  },
  {
   "cell_type": "code",
   "execution_count": 6,
   "metadata": {},
   "outputs": [],
   "source": [
    "probe_label = 'DC1-Spine1-flapping'\n",
    "interfaces = [\n",
    "            {'system_label':'spine1', 'interface_name':'Ethernet1'},\n",
    "             {'system_label':'spine1', 'interface_name':'Ethernet2'}\n",
    "             ]\n",
    "threshold = 8\n",
    "duration = 60\n",
    "anomaly_history_count = 500\n",
    "max_flapping_interfaces_percentage = 10"
   ]
  },
  {
   "cell_type": "markdown",
   "metadata": {},
   "source": [
    "Notice how `interface` is used to provide a list of interfaces for use with the probe.  \n",
    "To fined the interfaces for each node you can look in the Links section of the blueprint\n",
    "\n",
    "<img src=\"media/specific_hotcold2.png\">"
   ]
  },
  {
   "cell_type": "markdown",
   "metadata": {},
   "source": [
    "Now let's create the body data from these variables:"
   ]
  },
  {
   "cell_type": "code",
   "execution_count": 7,
   "metadata": {},
   "outputs": [],
   "source": [
    "probe_body = specific_interface_flapping_probe(label=probe_label, \n",
    "                                      interfaces=interfaces,  \n",
    "                                      threshold=threshold, \n",
    "                                      duration=duration, \n",
    "                                      anomaly_history_count=anomaly_history_count, \n",
    "                                      max_flapping_interfaces_percentage=max_flapping_interfaces_percentage)"
   ]
  },
  {
   "cell_type": "markdown",
   "metadata": {},
   "source": [
    "If you'd like to dump the contents of the probe_body, you can use the following:"
   ]
  },
  {
   "cell_type": "code",
   "execution_count": 8,
   "metadata": {},
   "outputs": [],
   "source": [
    "# print json.dumps(probe_body, indent=2)"
   ]
  },
  {
   "cell_type": "markdown",
   "metadata": {},
   "source": [
    "Finally, post the probe body to AOS to create the probe."
   ]
  },
  {
   "cell_type": "code",
   "execution_count": 9,
   "metadata": {},
   "outputs": [],
   "source": [
    "probes_url = bp.url + \"/probes\""
   ]
  },
  {
   "cell_type": "code",
   "execution_count": 10,
   "metadata": {},
   "outputs": [
    {
     "data": {
      "text/plain": [
       "u'https://172.20.91.3/api/blueprints/rack-based-blueprint-f03bfadb/probes'"
      ]
     },
     "execution_count": 10,
     "metadata": {},
     "output_type": "execute_result"
    }
   ],
   "source": [
    "probes_url"
   ]
  },
  {
   "cell_type": "code",
   "execution_count": 11,
   "metadata": {},
   "outputs": [],
   "source": [
    "resp = aos.remote.api.post(probes_url, json=probe_body)"
   ]
  },
  {
   "cell_type": "code",
   "execution_count": 12,
   "metadata": {},
   "outputs": [
    {
     "data": {
      "text/plain": [
       "True"
      ]
     },
     "execution_count": 12,
     "metadata": {},
     "output_type": "execute_result"
    }
   ],
   "source": [
    "resp.ok"
   ]
  },
  {
   "cell_type": "markdown",
   "metadata": {},
   "source": [
    "Now we have our IBA Probe ID:"
   ]
  },
  {
   "cell_type": "code",
   "execution_count": 13,
   "metadata": {},
   "outputs": [
    {
     "name": "stdout",
     "output_type": "stream",
     "text": [
      "62ac5ea9-1b5e-40f4-847d-2778e1e5e076\n"
     ]
    }
   ],
   "source": [
    "probe_id = resp.json()['id']\n",
    "\n",
    "print probe_id"
   ]
  },
  {
   "cell_type": "markdown",
   "metadata": {},
   "source": [
    "And now we can see the IBA active probe in the UI:\n",
    "\n",
    "<img src=\"media/specific_flap1.png\">"
   ]
  },
  {
   "cell_type": "markdown",
   "metadata": {},
   "source": [
    "And then select the probe on the UI to get the details:\n",
    "\n",
    "<img src=\"media/specific_flap2.png\">"
   ]
  },
  {
   "cell_type": "markdown",
   "metadata": {},
   "source": [
    "# Delete the IBA Interface Flapping Probe\n",
    "\n",
    "If you want to remove the IBA probe, you can use the API to do so, like the following; just uncomment this out."
   ]
  },
  {
   "cell_type": "code",
   "execution_count": 14,
   "metadata": {},
   "outputs": [
    {
     "data": {
      "text/plain": [
       "True"
      ]
     },
     "execution_count": 14,
     "metadata": {},
     "output_type": "execute_result"
    }
   ],
   "source": [
    "resp = aos.remote.api.delete(probes_url + \"/%s\" % probe_id)\n",
    "resp.ok"
   ]
  }
 ],
 "metadata": {
  "kernelspec": {
   "display_name": "Python 2",
   "language": "python",
   "name": "python2"
  },
  "language_info": {
   "codemirror_mode": {
    "name": "ipython",
    "version": 2
   },
   "file_extension": ".py",
   "mimetype": "text/x-python",
   "name": "python",
   "nbconvert_exporter": "python",
   "pygments_lexer": "ipython2",
   "version": "2.7.14"
  },
  "toc": {
   "nav_menu": {},
   "number_sections": true,
   "sideBar": true,
   "skip_h1_title": false,
   "title_cell": "Table of Contents",
   "title_sidebar": "Contents",
   "toc_cell": false,
   "toc_position": {},
   "toc_section_display": "block",
   "toc_window_display": false
  }
 },
 "nbformat": 4,
 "nbformat_minor": 2
}
