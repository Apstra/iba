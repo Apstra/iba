{
 "cells": [
  {
   "cell_type": "markdown",
   "metadata": {},
   "source": [
    "# IBA Probe for Hot/Cold Interface\n",
    "\n",
    "In this tutorial we will demonstrate the \"Hot/Cold Interface\" probe that is used to messure specific traffic load on your interfaces and detect when traffic load increases (hot) or decreses (cold) unexpectedly.\n",
    "\n",
    "The first thing we need to do to is setup our AOS server and identify the blueprint we want to use."
   ]
  },
  {
   "cell_type": "code",
   "execution_count": null,
   "metadata": {},
   "outputs": [],
   "source": [
    "aos_server = '172.20.62.3'\n",
    "blueprint_name = \"rack-based-blueprint-3b245327\""
   ]
  },
  {
   "cell_type": "markdown",
   "metadata": {},
   "source": [
    "Next let's create a AOS python client that we will use to create our probe"
   ]
  },
  {
   "cell_type": "code",
   "execution_count": null,
   "metadata": {},
   "outputs": [],
   "source": [
    "import json\n",
    "from aospy.client import Client\n",
    "\n",
    "aos = Client(aos_server)\n"
   ]
  },
  {
   "cell_type": "markdown",
   "metadata": {},
   "source": [
    "Now let's use that client to get the blueprint, so we can have the blueprint_id value we will need when we post the probe."
   ]
  },
  {
   "cell_type": "code",
   "execution_count": null,
   "metadata": {},
   "outputs": [],
   "source": [
    "bp = aos.blueprints[blueprint_name]"
   ]
  },
  {
   "cell_type": "code",
   "execution_count": null,
   "metadata": {},
   "outputs": [],
   "source": [
    "print bp.id"
   ]
  },
  {
   "cell_type": "markdown",
   "metadata": {},
   "source": [
    "Now let's import the hot/cold interface probe from the library"
   ]
  },
  {
   "cell_type": "code",
   "execution_count": null,
   "metadata": {},
   "outputs": [],
   "source": [
    "from aospy.ibaprobelib.hot_cold_interface import hotcold_ifcounter_probe"
   ]
  },
  {
   "cell_type": "markdown",
   "metadata": {},
   "source": [
    "Next let's create the hot/cold interface probe payload information that we will need.  The probe takes a few parmateres which we can see if we introspect the function:"
   ]
  },
  {
   "cell_type": "code",
   "execution_count": null,
   "metadata": {},
   "outputs": [],
   "source": [
    "?hotcold_ifcounter_probe"
   ]
  },
  {
   "cell_type": "markdown",
   "metadata": {},
   "source": [
    "The following paramaters are required:\n",
    "\n",
    "`label` - Descriptive name for the probe  \n",
    "`if_counter` - Type of interface counter:  \n",
    "    - tx_multicast_packets, rx_bytes, rx_error_packets, tx_error_packets,   \n",
    "    - tx_unicast_packets, rx_discard_packets, rx_broadcast_packets,   \n",
    "    - tx_broadcast_packets, rx_multicast_packets, tx_bytes, tx_discard_packets,   \n",
    "    - rx_unicast_packets \n",
    "      \n",
    "`min` - minimum level of counter  \n",
    "`max` - maximum level of counter  \n",
    "`max_hot_interface_percentage` - maximum percentage of hot interfaces on a device  \n",
    "`max_cold_interface_percentage` - maximum percentage of cold interfaces on a device  \n",
    "`average_period` - period over which to average input counter samples  \n",
    "`duration` - number of seconds of recent-history over which interface counter hot/cold  \n",
    "status will be considered  \n",
    "`threshold_duration` - sum total of number of seconds of recent-history for which  \n",
    "interface must be hot/cold for anomaly to be raised  \n",
    "`anomaly_history_count` - number of anomaly flaps that will be recorded for inspection  \n",
    "\n",
    "\n",
    "So for the case of reuse, we will define these variables here:"
   ]
  },
  {
   "cell_type": "code",
   "execution_count": null,
   "metadata": {},
   "outputs": [],
   "source": [
    "probe_label = 'DC1-hot-cold-int'\n",
    "if_counter = 'tx_unicast_packets'\n",
    "min = 12500\n",
    "max = 12500000\n",
    "max_hot_interface_percentage = 5\n",
    "max_cold_interface_percentage = 5\n",
    "average_period = 30\n",
    "duration = 60\n",
    "threshold_duration = 120\n",
    "anomaly_history_count = 500"
   ]
  },
  {
   "cell_type": "markdown",
   "metadata": {},
   "source": [
    "Now let's create the body data from these variables:"
   ]
  },
  {
   "cell_type": "code",
   "execution_count": null,
   "metadata": {},
   "outputs": [],
   "source": [
    "probe_body = hotcold_ifcounter_probe(label=probe_label, if_counter=if_counter, min=min, max=max, max_hot_interface_percentage=max_hot_interface_percentage, max_cold_interface_percentage=max_cold_interface_percentage, average_period=average_period, duration=duration, threshold_duration=threshold_duration, anomaly_history_count=anomaly_history_count)"
   ]
  },
  {
   "cell_type": "markdown",
   "metadata": {},
   "source": [
    "If you'd like to dump the contents of the probe_body, you can use the following:"
   ]
  },
  {
   "cell_type": "code",
   "execution_count": null,
   "metadata": {},
   "outputs": [],
   "source": [
    "# print json.dumps(probe_body, indent=2)"
   ]
  },
  {
   "cell_type": "markdown",
   "metadata": {},
   "source": [
    "Finally, post the probe body to AOS to create the probe."
   ]
  },
  {
   "cell_type": "code",
   "execution_count": null,
   "metadata": {},
   "outputs": [],
   "source": [
    "probes_url = aos.url + \"/api/blueprints/{blueprint_id}/probes\".format(blueprint_id=bp.id)"
   ]
  },
  {
   "cell_type": "code",
   "execution_count": null,
   "metadata": {},
   "outputs": [],
   "source": [
    "probes_url"
   ]
  },
  {
   "cell_type": "code",
   "execution_count": null,
   "metadata": {},
   "outputs": [],
   "source": [
    "resp = aos.api.post(probes_url, json=probe_body)"
   ]
  },
  {
   "cell_type": "code",
   "execution_count": null,
   "metadata": {},
   "outputs": [],
   "source": [
    "resp.ok"
   ]
  },
  {
   "cell_type": "markdown",
   "metadata": {},
   "source": [
    "Now we have our IBA Probe ID:"
   ]
  },
  {
   "cell_type": "code",
   "execution_count": null,
   "metadata": {},
   "outputs": [],
   "source": [
    "probe_id = resp.json()['id']\n",
    "\n",
    "print probe_id"
   ]
  },
  {
   "cell_type": "markdown",
   "metadata": {},
   "source": [
    "And now we can see the IBA active probe in the UI:\n",
    "\n",
    "<img src=\"media/hotcold_interface1.png\">"
   ]
  },
  {
   "cell_type": "markdown",
   "metadata": {},
   "source": [
    "And then select the probe on the UI to get the details:\n",
    "\n",
    "<img src=\"media/hotcold_interface2.png\">"
   ]
  },
  {
   "cell_type": "markdown",
   "metadata": {},
   "source": [
    "# Delete the IBA ECMP Traffic Imbalance Probe\n",
    "\n",
    "If you want to remove the IBA probe, you can use the API to do so, like the following; just uncomment this out."
   ]
  },
  {
   "cell_type": "code",
   "execution_count": null,
   "metadata": {},
   "outputs": [],
   "source": [
    "# resp = aos.api.delete(probes_url + \"/%s\" % probe_id)\n",
    "# resp.ok"
   ]
  }
 ],
 "metadata": {
  "kernelspec": {
   "display_name": "Python 2",
   "language": "python",
   "name": "python2"
  },
  "language_info": {
   "codemirror_mode": {
    "name": "ipython",
    "version": 2
   },
   "file_extension": ".py",
   "mimetype": "text/x-python",
   "name": "python",
   "nbconvert_exporter": "python",
   "pygments_lexer": "ipython2",
   "version": "2.7.10"
  },
  "toc": {
   "nav_menu": {},
   "number_sections": true,
   "sideBar": true,
   "skip_h1_title": false,
   "toc_cell": false,
   "toc_position": {},
   "toc_section_display": "block",
   "toc_window_display": false
  }
 },
 "nbformat": 4,
 "nbformat_minor": 2
}
