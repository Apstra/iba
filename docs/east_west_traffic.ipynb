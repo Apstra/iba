{
 "cells": [
  {
   "cell_type": "markdown",
   "metadata": {},
   "source": [
    "# IBA Probe for East West Traffic\n",
    "\n",
    "In this tutorial we will demonstrate the \"East West Traffic\" probe that is used to messure the amount of east/west traffic in your data center fabric.\n",
    "\n",
    "The first thing we need to do to is setup our AOS server and identify the blueprint we want to use."
   ]
  },
  {
   "cell_type": "code",
   "execution_count": 2,
   "metadata": {},
   "outputs": [],
   "source": [
    "aos_server = '172.20.62.3'\n",
    "blueprint_name = \"rack-based-blueprint-3b245327\""
   ]
  },
  {
   "cell_type": "markdown",
   "metadata": {},
   "source": [
    "Next let's create a AOS python client that we will use to create our east/west traffic probe"
   ]
  },
  {
   "cell_type": "code",
   "execution_count": 3,
   "metadata": {},
   "outputs": [],
   "source": [
    "import json\n",
    "from aospy.client import Client\n",
    "\n",
    "aos = Client(aos_server)\n"
   ]
  },
  {
   "cell_type": "markdown",
   "metadata": {},
   "source": [
    "Now let's use that client to get the blueprint, so we can have the blueprint_id value we will need when we post the probe."
   ]
  },
  {
   "cell_type": "code",
   "execution_count": 4,
   "metadata": {},
   "outputs": [],
   "source": [
    "bp = aos.blueprints[blueprint_name]"
   ]
  },
  {
   "cell_type": "code",
   "execution_count": 5,
   "metadata": {},
   "outputs": [
    {
     "name": "stdout",
     "output_type": "stream",
     "text": [
      "rack-based-blueprint-3b245327\n"
     ]
    }
   ],
   "source": [
    "print bp.id"
   ]
  },
  {
   "cell_type": "markdown",
   "metadata": {},
   "source": [
    "Now let's import the east/west traffic probe from the library"
   ]
  },
  {
   "cell_type": "code",
   "execution_count": 6,
   "metadata": {},
   "outputs": [],
   "source": [
    "from aospy.ibaprobelib.east_west_traffic import eastwest_traffic_probe"
   ]
  },
  {
   "cell_type": "code",
   "execution_count": null,
   "metadata": {},
   "outputs": [],
   "source": []
  },
  {
   "cell_type": "markdown",
   "metadata": {},
   "source": [
    "Next let's create the east/west traffic probe payload information that we will need.  The probe takes a few parmateres which we can see if we introspect the function:"
   ]
  },
  {
   "cell_type": "code",
   "execution_count": 7,
   "metadata": {},
   "outputs": [],
   "source": [
    "?eastwest_traffic_probe"
   ]
  },
  {
   "cell_type": "markdown",
   "metadata": {},
   "source": [
    "The following paramaters are required: \n",
    "  \n",
    "`label` -  Descriptive name for the probe  \n",
    "`average_period` - period over which to average input counter samples  \n",
    "`history_sample_count` - number of samples of history to maintain  \n",
    "\n",
    "These values define the sample period which traffic is averaged and the number of samples to keep in history for the probe.\n",
    "\n",
    "So for the case of reuse, we will define these variables here:"
   ]
  },
  {
   "cell_type": "code",
   "execution_count": null,
   "metadata": {},
   "outputs": [],
   "source": [
    "probe_label = 'DC1-East-West'\n",
    "average_period = 30\n",
    "history_sample_count = 5000"
   ]
  },
  {
   "cell_type": "markdown",
   "metadata": {},
   "source": [
    "Now let's create the body data from these variables:"
   ]
  },
  {
   "cell_type": "code",
   "execution_count": null,
   "metadata": {},
   "outputs": [],
   "source": [
    "probe_body = eastwest_traffic_probe(label=probe_label, average_period=average_period, history_sample_count=history_sample_count)"
   ]
  },
  {
   "cell_type": "markdown",
   "metadata": {},
   "source": [
    "If you'd like to dump the contents of the probe_body, you can use the following:"
   ]
  },
  {
   "cell_type": "code",
   "execution_count": null,
   "metadata": {},
   "outputs": [],
   "source": [
    "# print json.dumps(probe_body, indent=2)"
   ]
  },
  {
   "cell_type": "markdown",
   "metadata": {},
   "source": [
    "Finally, post the probe body to AOS to create the probe."
   ]
  },
  {
   "cell_type": "code",
   "execution_count": null,
   "metadata": {},
   "outputs": [],
   "source": [
    "probes_url = aos.url + \"/api/blueprints/{blueprint_id}/probes\".format(blueprint_id=bp.id)"
   ]
  },
  {
   "cell_type": "code",
   "execution_count": null,
   "metadata": {},
   "outputs": [],
   "source": [
    "probes_url"
   ]
  },
  {
   "cell_type": "code",
   "execution_count": null,
   "metadata": {},
   "outputs": [],
   "source": [
    "resp = aos.api.post(probes_url, json=probe_body)"
   ]
  },
  {
   "cell_type": "code",
   "execution_count": null,
   "metadata": {},
   "outputs": [],
   "source": [
    "resp.ok"
   ]
  },
  {
   "cell_type": "markdown",
   "metadata": {},
   "source": [
    "Now we have our IBA Probe ID:"
   ]
  },
  {
   "cell_type": "code",
   "execution_count": null,
   "metadata": {},
   "outputs": [],
   "source": [
    "probe_id = resp.json()['id']\n",
    "\n",
    "print probe_id"
   ]
  },
  {
   "cell_type": "markdown",
   "metadata": {},
   "source": [
    "And now we can see the IBA active probe in the UI:\n",
    "\n",
    "<img src=\"media/east_west1.png\">"
   ]
  },
  {
   "cell_type": "markdown",
   "metadata": {},
   "source": [
    "And then select the probe on the UI to get the details:\n",
    "\n",
    "<img src=\"media/east_west2.png\">"
   ]
  },
  {
   "cell_type": "markdown",
   "metadata": {},
   "source": [
    "# Delete the IBA East West Probe\n",
    "\n",
    "If you want to remove the IBA probe, you can use the API to do so, like the following; just uncomment this out."
   ]
  },
  {
   "cell_type": "code",
   "execution_count": null,
   "metadata": {},
   "outputs": [],
   "source": [
    "# resp = aos.api.delete(probes_url + \"/%s\" % probe_id)\n",
    "# resp.ok"
   ]
  }
 ],
 "metadata": {
  "kernelspec": {
   "display_name": "Python 2",
   "language": "python",
   "name": "python2"
  },
  "language_info": {
   "codemirror_mode": {
    "name": "ipython",
    "version": 2
   },
   "file_extension": ".py",
   "mimetype": "text/x-python",
   "name": "python",
   "nbconvert_exporter": "python",
   "pygments_lexer": "ipython2",
   "version": "2.7.10"
  },
  "toc": {
   "nav_menu": {},
   "number_sections": true,
   "sideBar": true,
   "skip_h1_title": false,
   "toc_cell": false,
   "toc_position": {},
   "toc_section_display": "block",
   "toc_window_display": false
  }
 },
 "nbformat": 4,
 "nbformat_minor": 2
}
